{
 "cells": [
  {
   "cell_type": "code",
   "execution_count": 2,
   "id": "3748c9c7",
   "metadata": {},
   "outputs": [],
   "source": [
    "import clean_up"
   ]
  },
  {
   "cell_type": "code",
   "execution_count": 1,
   "id": "3de7b332",
   "metadata": {},
   "outputs": [
    {
     "name": "stderr",
     "output_type": "stream",
     "text": [
      "EF\n",
      "======================================================================\n",
      "ERROR: test_files (test_clean_up.TestCleanUp)\n",
      "----------------------------------------------------------------------\n",
      "Traceback (most recent call last):\n",
      "  File \"C:\\Users\\kwame\\project_sanctions\\ETL\\Extract\\test_clean_up.py\", line 87, in test_files\n",
      "    print(mock_glob.side_effect())\n",
      "TypeError: TestCleanUp.side_effect() missing 1 required positional argument: 'x'\n",
      "\n",
      "======================================================================\n",
      "FAIL: test_remove_oldest_file (test_clean_up.TestCleanUp)\n",
      "----------------------------------------------------------------------\n",
      "Traceback (most recent call last):\n",
      "  File \"C:\\Users\\kwame\\project_sanctions\\ETL\\Extract\\test_clean_up.py\", line 36, in test_remove_oldest_file\n",
      "    self.assertEqual(removed_files, expected_removed_files)\n",
      "AssertionError: Lists differ: ['ETL[159 chars].csv', 'ETL/Extract/Downloaded_Files/person_on[183 chars]csv'] != ['ETL[159 chars].csv']\n",
      "\n",
      "First list contains 4 additional elements.\n",
      "First extra element 3:\n",
      "'ETL/Extract/Downloaded_Files/person_one_2022_01_02.csv'\n",
      "\n",
      "  ['ETL/Extract/Downloaded_Files/person_one_2022_01_01.csv',\n",
      "   'ETL/Extract/Downloaded_Files/person_two_2022_01_01.csv',\n",
      "-  'ETL/Extract/Downloaded_Files/regime_2022_01_01.csv',\n",
      "?                                                      ^\n",
      "\n",
      "+  'ETL/Extract/Downloaded_Files/regime_2022_01_01.csv']\n",
      "?                                                      ^\n",
      "\n",
      "-  'ETL/Extract/Downloaded_Files/person_one_2022_01_02.csv',\n",
      "-  'ETL/Extract/Downloaded_Files/person_two_2022_01_02.csv',\n",
      "-  'ETL/Extract/Downloaded_Files/regime_2022_01_02.csv',\n",
      "-  'ETL/Extract/Downloaded_Files/person_one_2022_01_03.csv']\n",
      "\n",
      "----------------------------------------------------------------------\n",
      "Ran 2 tests in 0.009s\n",
      "\n",
      "FAILED (failures=1, errors=1)\n"
     ]
    }
   ],
   "source": [
    "!python -m unittest test_clean_up.py"
   ]
  },
  {
   "cell_type": "code",
   "execution_count": 6,
   "id": "bac63222",
   "metadata": {},
   "outputs": [],
   "source": [
    "from clean_up import Clean_up"
   ]
  },
  {
   "cell_type": "code",
   "execution_count": 7,
   "id": "c912f3e7",
   "metadata": {},
   "outputs": [],
   "source": [
    "clean_up = Clean_up()"
   ]
  },
  {
   "cell_type": "code",
   "execution_count": null,
   "id": "aa8b0963",
   "metadata": {},
   "outputs": [],
   "source": []
  }
 ],
 "metadata": {
  "kernelspec": {
   "display_name": "Python 3 (ipykernel)",
   "language": "python",
   "name": "python3"
  },
  "language_info": {
   "codemirror_mode": {
    "name": "ipython",
    "version": 3
   },
   "file_extension": ".py",
   "mimetype": "text/x-python",
   "name": "python",
   "nbconvert_exporter": "python",
   "pygments_lexer": "ipython3",
   "version": "3.10.9"
  }
 },
 "nbformat": 4,
 "nbformat_minor": 5
}
