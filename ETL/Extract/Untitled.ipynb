{
 "cells": [
  {
   "cell_type": "code",
   "execution_count": 2,
   "id": "9e63f9cf",
   "metadata": {},
   "outputs": [],
   "source": [
    "import clean_up"
   ]
  },
  {
   "cell_type": "code",
   "execution_count": 3,
   "id": "67117a81",
   "metadata": {},
   "outputs": [],
   "source": [
    "cleaning = clean_up.Clean_up()"
   ]
  },
  {
   "cell_type": "code",
   "execution_count": 4,
   "id": "cd59b852",
   "metadata": {},
   "outputs": [
    {
     "data": {
      "text/plain": [
       "{'person_one': [], 'person_two': [], 'regime': []}"
      ]
     },
     "execution_count": 4,
     "metadata": {},
     "output_type": "execute_result"
    }
   ],
   "source": [
    "cleaning.files()"
   ]
  },
  {
   "cell_type": "code",
   "execution_count": 34,
   "id": "516faa45",
   "metadata": {},
   "outputs": [],
   "source": [
    "import os\n",
    "import glob\n",
    "\n",
    "\n",
    "def files():\n",
    "    folder_path = 'ETL/Extract/Downloaded_Files/'\n",
    "    file_types = {\n",
    "        \"regime\": [],\n",
    "        \"person_one\": [],\n",
    "        \"person_two\": []\n",
    "    }\n",
    "\n",
    "    for file_type in file_types:\n",
    "        file_pattern = os.path.join(folder_path, f'{file_type}*')\n",
    "        print(file_pattern)\n",
    "        file_types[file_type] = glob.glob(file_pattern)\n",
    "    print(file_types)"
   ]
  },
  {
   "cell_type": "code",
   "execution_count": 28,
   "id": "d6b15170",
   "metadata": {},
   "outputs": [
    {
     "name": "stderr",
     "output_type": "stream",
     "text": [
      "Parameter format not correct - \"Downloaded_Files\".\n"
     ]
    }
   ],
   "source": [
    "! dir '/Downloaded_Files/'"
   ]
  },
  {
   "cell_type": "code",
   "execution_count": 32,
   "id": "96d54197",
   "metadata": {},
   "outputs": [
    {
     "data": {
      "text/plain": [
       "['Downloaded_Files\\\\regime_2023_08_03.json']"
      ]
     },
     "execution_count": 32,
     "metadata": {},
     "output_type": "execute_result"
    }
   ],
   "source": [
    "glob.glob(\"Downloaded_Files/regime*\")"
   ]
  },
  {
   "cell_type": "code",
   "execution_count": 35,
   "id": "bb8672de",
   "metadata": {},
   "outputs": [
    {
     "name": "stdout",
     "output_type": "stream",
     "text": [
      "ETL/Extract/Downloaded_Files/regime*\n",
      "ETL/Extract/Downloaded_Files/person_one*\n",
      "ETL/Extract/Downloaded_Files/person_two*\n",
      "{'regime': [], 'person_one': [], 'person_two': []}\n"
     ]
    }
   ],
   "source": [
    "files()"
   ]
  },
  {
   "cell_type": "code",
   "execution_count": 1,
   "id": "8494cca8",
   "metadata": {},
   "outputs": [
    {
     "name": "stderr",
     "output_type": "stream",
     "text": [
      "EF\n",
      "======================================================================\n",
      "ERROR: test_files (test_clean_up.TestCleanUp)\n",
      "----------------------------------------------------------------------\n",
      "Traceback (most recent call last):\n",
      "  File \"C:\\Users\\kwame\\project_sanctions\\ETL\\Extract\\test_clean_up.py\", line 87, in test_files\n",
      "    print(mock_glob.side_effect())\n",
      "TypeError: TestCleanUp.side_effect() missing 1 required positional argument: 'x'\n",
      "\n",
      "======================================================================\n",
      "FAIL: test_remove_oldest_file (test_clean_up.TestCleanUp)\n",
      "----------------------------------------------------------------------\n",
      "Traceback (most recent call last):\n",
      "  File \"C:\\Users\\kwame\\project_sanctions\\ETL\\Extract\\test_clean_up.py\", line 36, in test_remove_oldest_file\n",
      "    self.assertEqual(removed_files, expected_removed_files)\n",
      "AssertionError: Lists differ: ['ETL[159 chars].csv', 'ETL/Extract/Downloaded_Files/person_on[183 chars]csv'] != ['ETL[159 chars].csv']\n",
      "\n",
      "First list contains 4 additional elements.\n",
      "First extra element 3:\n",
      "'ETL/Extract/Downloaded_Files/person_one_2022_01_02.csv'\n",
      "\n",
      "  ['ETL/Extract/Downloaded_Files/person_one_2022_01_01.csv',\n",
      "   'ETL/Extract/Downloaded_Files/person_two_2022_01_01.csv',\n",
      "-  'ETL/Extract/Downloaded_Files/regime_2022_01_01.csv',\n",
      "?                                                      ^\n",
      "\n",
      "+  'ETL/Extract/Downloaded_Files/regime_2022_01_01.csv']\n",
      "?                                                      ^\n",
      "\n",
      "-  'ETL/Extract/Downloaded_Files/person_one_2022_01_02.csv',\n",
      "-  'ETL/Extract/Downloaded_Files/person_two_2022_01_02.csv',\n",
      "-  'ETL/Extract/Downloaded_Files/regime_2022_01_02.csv',\n",
      "-  'ETL/Extract/Downloaded_Files/person_one_2022_01_03.csv']\n",
      "\n",
      "----------------------------------------------------------------------\n",
      "Ran 2 tests in 0.009s\n",
      "\n",
      "FAILED (failures=1, errors=1)\n"
     ]
    }
   ],
   "source": [
    "!python -m unittest test_clean_up.py"
   ]
  },
  {
   "cell_type": "code",
   "execution_count": 6,
   "id": "7c7f2492",
   "metadata": {},
   "outputs": [],
   "source": [
    "from clean_up import Clean_up"
   ]
  },
  {
   "cell_type": "code",
   "execution_count": 7,
   "id": "9475704d",
   "metadata": {},
   "outputs": [],
   "source": [
    "clean_up = Clean_up()"
   ]
  },
  {
   "cell_type": "code",
   "execution_count": null,
   "id": "179e68ee",
   "metadata": {},
   "outputs": [],
   "source": []
  }
 ],
 "metadata": {
  "kernelspec": {
   "display_name": "Python 3 (ipykernel)",
   "language": "python",
   "name": "python3"
  },
  "language_info": {
   "codemirror_mode": {
    "name": "ipython",
    "version": 3
   },
   "file_extension": ".py",
   "mimetype": "text/x-python",
   "name": "python",
   "nbconvert_exporter": "python",
   "pygments_lexer": "ipython3",
   "version": "3.10.9"
  }
 },
 "nbformat": 4,
 "nbformat_minor": 5
}
